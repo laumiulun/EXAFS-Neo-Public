{
 "cells": [
  {
   "cell_type": "code",
   "execution_count": 1,
   "id": "86a2a5b6-39de-480e-ac4b-1f2dbe3f9d4e",
   "metadata": {
    "tags": []
   },
   "outputs": [],
   "source": [
    "%matplotlib inline\n",
    "import numpy as np \n",
    "import configparser\n",
    "import matplotlib.pyplot as plt\n",
    "config = configparser.ConfigParser()\n",
    "import os\n",
    "import csv\n",
    "import sys,importlib\n",
    "from pathlib import Path\n",
    "\n",
    "sys.path.insert(0, '../../gui')\n",
    "# import larch_score\n",
    "import EXAFS_Analysis\n",
    "import larch_score"
   ]
  },
  {
   "cell_type": "code",
   "execution_count": 7,
   "id": "1c730dbf-5bda-4089-a86a-de6082008073",
   "metadata": {
    "tags": []
   },
   "outputs": [
    {
     "name": "stdout",
     "output_type": "stream",
     "text": [
      "/Users/andy/projects/EXAFS_Neo/tests/cu_test_files\n"
     ]
    }
   ],
   "source": [
    "!pwd"
   ]
  },
  {
   "cell_type": "code",
   "execution_count": 3,
   "id": "16abad9c-09a0-44b3-a760-087c0dc91b4a",
   "metadata": {
    "tags": []
   },
   "outputs": [],
   "source": [
    "paths = [1,2,3,5,6,10,14,16,28,30,36,40,42]\n",
    "\n"
   ]
  },
  {
   "cell_type": "code",
   "execution_count": 87,
   "id": "84a25707-f7bc-4fa8-8df4-6dbcb7cfed44",
   "metadata": {
    "tags": []
   },
   "outputs": [
    {
     "name": "stdout",
     "output_type": "stream",
     "text": [
      "cu_results\n",
      "Individual Path: False\n",
      "[[ 0.721429  0.414286  0.003    -0.018571]\n",
      " [ 0.641429  0.414286  0.009429 -0.03    ]\n",
      " [ 0.455714  0.414286  0.007    -0.01    ]\n",
      " [ 0.797143  0.414286  0.007143  0.005714]\n",
      " [ 0.527143  0.414286  0.008286  0.017143]\n",
      " [ 0.678571  0.414286  0.009143  0.044286]\n",
      " [ 0.425714  0.414286  0.008571 -0.05    ]\n",
      " [ 0.562857  0.414286  0.008857  0.025714]\n",
      " [ 0.632857  0.414286  0.01     -0.02    ]\n",
      " [ 0.351429  0.414286  0.009143 -0.041429]\n",
      " [ 0.332857  0.414286  0.008429  0.011429]\n",
      " [ 0.535714  0.414286  0.007571 -0.004286]\n",
      " [ 0.67      0.414286  0.007286 -0.044286]]\n",
      "Number of Components: 1\n",
      "Path 1 0.721429 0.414286 0.003 2.534129\n",
      "Path 2 0.641429 0.414286 0.009429 3.58\n",
      "Path 3 0.455714 0.414286 0.007 3.8190000000000004\n",
      "Path 5 0.797143 0.414286 0.007143 4.427014\n",
      "Path 6 0.527143 0.414286 0.008286 4.780443\n",
      "Path 10 0.678571 0.414286 0.009143 5.149585999999999\n",
      "Path 14 0.425714 0.414286 0.008571 5.0553\n",
      "Path 16 0.562857 0.414286 0.008857 5.733614\n",
      "Path 28 0.632857 0.414286 0.01 6.733700000000001\n",
      "Path 30 0.351429 0.414286 0.009143 6.822371\n",
      "Path 36 0.332857 0.414286 0.008429 7.217229\n",
      "Path 40 0.535714 0.414286 0.007571 7.215714\n",
      "Path 42 0.67 0.414286 0.007286 7.613714000000001\n",
      "Fitness Score (Chi2): 184.015164\n",
      "Fitness Score (ChiR2): 0.763548\n",
      "[1, 2, 3, 5, 6, 10, 14, 16, 28, 30, 36, 40, 42]\n"
     ]
    }
   ],
   "source": [
    "importlib.reload(larch_score)\n",
    "importlib.reload(EXAFS_Analysis)\n",
    "\n",
    "params = {}\n",
    "params['base'] = Path(os.getcwd()).parent.parent\n",
    "# print(params['base'])\n",
    "params['Kmin'] = 3.0\n",
    "params['Kmax'] = 17.0\n",
    "params['kweight'] = 2.0\n",
    "params['deltak'] = 0.05\n",
    "params['rbkg'] = 1.2\n",
    "params['bkgkw'] = 1.0\n",
    "params['bkgkmax'] = 25.0\n",
    "params['front'] = [\"tests/cu_test_files/cu_paths/path_75/feff\"]\n",
    "params['CSV'] = \"tests/cu_test_files/cu_paths/cu_10k.xmu\"\n",
    "params['optimize'] = 'False'\n",
    "params['series_index'] = 0\n",
    "params['series'] = False\n",
    "dirs = 'cu_results'\n",
    "\n",
    "# larch_score.larch_init(params['CSV'],params)\n",
    "\n",
    "Test_Result = EXAFS_Analysis.EXAFS_Analysis(paths,dirs,params)\n",
    "\n",
    "Test_Result.extract_data()\n",
    "\n",
    "Test_Result.larch_init()\n",
    "Test_Result.larch_score()\n",
    "# Test_Result.plot(\"Cu\")\n",
    "\n",
    "\n",
    "Test_Result.individual_fit()"
   ]
  },
  {
   "cell_type": "code",
   "execution_count": 33,
   "id": "e243466d-6839-4104-9968-5d5c2bbd7c32",
   "metadata": {
    "tags": []
   },
   "outputs": [
    {
     "data": {
      "text/plain": [
       "0.763548"
      ]
     },
     "execution_count": 33,
     "metadata": {},
     "output_type": "execute_result"
    }
   ],
   "source": [
    "Test_Result.chir2"
   ]
  },
  {
   "cell_type": "code",
   "execution_count": 83,
   "id": "da5e5255-18f2-4d56-9713-cf93fd7a167b",
   "metadata": {
    "tags": []
   },
   "outputs": [
    {
     "data": {
      "text/plain": [
       "[0.721429,\n",
       " 0.414286,\n",
       " 0.003,\n",
       " 2.534129,\n",
       " 12.0,\n",
       " 2.0,\n",
       " [('Cu', 29, 0, 63.546, '-0.0000', '-0.0000', '-0.0000'),\n",
       "  ('Cu', 29, 1, 63.546, '-0.0000', '-1.8050', '-1.8050')]]"
      ]
     },
     "execution_count": 83,
     "metadata": {},
     "output_type": "execute_result"
    }
   ],
   "source": [
    "\n",
    "best_Fit_r = Test_Result.best_Fit_r\n",
    "\n",
    "best_Fit_r[0]"
   ]
  },
  {
   "cell_type": "code",
   "execution_count": 89,
   "id": "998a3b7b-bbdf-4119-b133-3064cba76fbc",
   "metadata": {
    "tags": []
   },
   "outputs": [
    {
     "data": {
      "text/plain": [
       "(13, 4)"
      ]
     },
     "execution_count": 89,
     "metadata": {},
     "output_type": "execute_result"
    }
   ],
   "source": [
    "Test_Result.bestFit_mat.shape\n"
   ]
  },
  {
   "cell_type": "code",
   "execution_count": 86,
   "id": "2aab3a23-314f-4fd4-9251-88714ff8d606",
   "metadata": {
    "tags": []
   },
   "outputs": [
    {
     "data": {
      "text/plain": [
       "list"
      ]
     },
     "execution_count": 86,
     "metadata": {},
     "output_type": "execute_result"
    }
   ],
   "source": [
    "type(best_Fit_r[0][6])"
   ]
  },
  {
   "cell_type": "code",
   "execution_count": 88,
   "id": "7f6f4179-c29f-4b37-baa3-ad6f5539fb1d",
   "metadata": {
    "tags": []
   },
   "outputs": [
    {
     "name": "stdout",
     "output_type": "stream",
     "text": [
      "[[0.721429, 0.414286, 0.003, 2.534129, 12.0, 2.0, [('Cu', 29, 0, 63.546, '-0.0000', '-0.0000', '-0.0000'), ('Cu', 29, 1, 63.546, '-0.0000', '-1.8050', '-1.8050')]], [0.641429, 0.414286, 0.009429, 3.58, 6.0, 2.0, [('Cu', 29, 0, 63.546, '-0.0000', '-0.0000', '-0.0000'), ('Cu', 29, 1, 63.546, '-0.0000', ' 3.6100', '-0.0000')]], [0.455714, 0.414286, 0.007, 3.8190000000000004, 48.0, 3.0, [('Cu', 29, 0, 63.546, '-0.0000', '-0.0000', '-0.0000'), ('Cu', 29, 1, 63.546, ' 1.8050', '-0.0000', '-1.8050'), ('Cu', 29, 1, 63.546, ' 1.8050', '-1.8050', '-0.0000')]], [0.797143, 0.414286, 0.007143, 4.427014, 24.0, 2.0, [('Cu', 29, 0, 63.546, '-0.0000', '-0.0000', '-0.0000'), ('Cu', 29, 1, 63.546, '-3.6100', ' 1.8050', '-1.8050')]], [0.527143, 0.414286, 0.008286, 4.780443, 48.0, 3.0, [('Cu', 29, 0, 63.546, '-0.0000', '-0.0000', '-0.0000'), ('Cu', 29, 1, 63.546, '-0.0000', '-1.8050', ' 1.8050'), ('Cu', 29, 1, 63.546, '-1.8050', ' 1.8050', '-0.0000')]], [0.678571, 0.414286, 0.009143, 5.149585999999999, 24.0, 3.0, [('Cu', 29, 0, 63.546, '-0.0000', '-0.0000', '-0.0000'), ('Cu', 29, 1, 63.546, '-3.6100', '-3.6100', '-0.0000'), ('Cu', 29, 1, 63.546, '-1.8050', '-1.8050', '-0.0000')]], [0.425714, 0.414286, 0.008571, 5.0553, 12.0, 4.0, [('Cu', 29, 0, 63.546, '-0.0000', '-0.0000', '-0.0000'), ('Cu', 29, 1, 63.546, '-0.0000', '-1.8050', ' 1.8050'), ('Cu', 29, 1, 63.546, '-0.0000', '-3.6100', ' 3.6100'), ('Cu', 29, 1, 63.546, '-0.0000', '-1.8050', ' 1.8050')]], [0.562857, 0.414286, 0.008857, 5.733614, 24.0, 2.0, [('Cu', 29, 0, 63.546, '-0.0000', '-0.0000', '-0.0000'), ('Cu', 29, 1, 63.546, '-5.4150', ' 1.8050', '-0.0000')]], [0.632857, 0.414286, 0.01, 6.733700000000001, 48.0, 2.0, [('Cu', 29, 0, 63.546, '-0.0000', '-0.0000', '-0.0000'), ('Cu', 29, 1, 63.546, ' 1.8050', '-3.6100', '-5.4150')]], [0.351429, 0.414286, 0.009143, 6.822371, 96.0, 3.0, [('Cu', 29, 0, 63.546, '-0.0000', '-0.0000', '-0.0000'), ('Cu', 29, 1, 63.546, ' 5.4150', ' 1.8050', ' 3.6100'), ('Cu', 29, 1, 63.546, ' 1.8050', '-0.0000', ' 1.8050')]], [0.332857, 0.414286, 0.008429, 7.217229, 96.0, 4.0, [('Cu', 29, 0, 63.546, '-0.0000', '-0.0000', '-0.0000'), ('Cu', 29, 1, 63.546, '-1.8050', '-0.0000', ' 1.8050'), ('Cu', 29, 1, 63.546, '-3.6100', '-0.0000', ' 3.6100'), ('Cu', 29, 1, 63.546, ' 1.8050', '-1.8050', '-0.0000')]], [0.535714, 0.414286, 0.007571, 7.215714, 12.0, 3.0, [('Cu', 29, 0, 63.546, '-0.0000', '-0.0000', '-0.0000'), ('Cu', 29, 1, 63.546, '-0.0000', ' 7.2200', '-0.0000'), ('Cu', 29, 1, 63.546, '-0.0000', ' 3.6100', '-0.0000')]], [0.67, 0.414286, 0.007286, 7.613714000000001, 36.0, 2.0, [('Cu', 29, 0, 63.546, '-0.0000', '-0.0000', '-0.0000'), ('Cu', 29, 1, 63.546, '-5.4150', '-5.4150', '-0.0000')]]]\n",
      "\\floatsetup[table]{capposition = top}\n",
      "        \\begin{table}[]\n",
      "            \\centering\n",
      "                \\footnotesize\n",
      "                    \\caption{test}\n",
      "                        \\begin{tabular}{cccccccc}\n",
      "                            \\hline\n",
      "                        \\vspace{0.05 in }\n",
      "                            Path \\# & $N$ & $S_0^2$ & $\\Delta$E$_0$ (eV) & $\\sigma^{2}$ (\\AA$^2$) & R (\\AA)& Legs & Labels\\\\\n",
      "                            \\hline                        1 & 12 & 0.72$\\pm$0.09 & 0.4$\\pm$0.7 & 0.003$\\pm$0.0006 & 2.534$\\pm$0.007 &  2 & Cu-Cu\\\\                        2 & 6 & 0.6$\\pm$0.2 & 0.4$\\pm$0.7 & 0.0094$\\pm$0.0032 & 3.58$\\pm$0.049 &  2 & Cu-Cu\\\\                        3 & 48 & 0.5$\\pm$0.3 & 0.4$\\pm$0.7 & 0.007$\\pm$0.0035 & 3.819$\\pm$0.055 &  3 & Cu-Cu-Cu\\\\                        5 & 24 & 0.8$\\pm$0.3 & 0.4$\\pm$0.7 & 0.0071$\\pm$0.002 & 4.427$\\pm$0.008 &  2 & Cu-Cu\\\\                        6 & 48 & 0.5$\\pm$0.2 & 0.4$\\pm$0.7 & 0.0083$\\pm$0.0028 & 4.78$\\pm$0.024 &  3 & Cu-Cu-Cu\\\\                        10 & 24 & 0.7$\\pm$0.1 & 0.4$\\pm$0.7 & 0.0091$\\pm$0.0029 & 5.15$\\pm$0.031 &  3 & Cu-Cu-Cu\\\\                        14 & 12 & 0.4$\\pm$0.2 & 0.4$\\pm$0.7 & 0.0086$\\pm$0.0045 & 5.055$\\pm$0.033 &  4 & Cu-Cu-Cu-Cu\\\\                        16 & 24 & 0.6$\\pm$0.3 & 0.4$\\pm$0.7 & 0.0089$\\pm$0.004 & 5.734$\\pm$0.034 &  2 & Cu-Cu\\\\                        28 & 48 & 0.6$\\pm$0.2 & 0.4$\\pm$0.7 & 0.01$\\pm$0.0046 & 6.734$\\pm$0.057 &  2 & Cu-Cu\\\\                        30 & 96 & 0.4$\\pm$0.1 & 0.4$\\pm$0.7 & 0.0091$\\pm$0.0043 & 6.822$\\pm$0.039 &  3 & Cu-Cu-Cu\\\\                        36 & 96 & 0.3$\\pm$0.2 & 0.4$\\pm$0.7 & 0.0084$\\pm$0.0068 & 7.217$\\pm$0.044 &  4 & Cu-Cu-Cu-Cu\\\\                        40 & 12 & 0.5$\\pm$0.1 & 0.4$\\pm$0.7 & 0.0076$\\pm$0.0045 & 7.216$\\pm$0.044 &  3 & Cu-Cu-Cu\\\\                        42 & 36 & 0.7$\\pm$0.1 & 0.4$\\pm$0.7 & 0.0073$\\pm$0.0043 & 7.614$\\pm$0.017 &  2 & Cu-Cu\\\\                        \\hline\n",
      "                        \\end{tabular}\n",
      "                        \\label{Label}\n",
      "\n",
      "\n",
      "\\end{table}\n"
     ]
    }
   ],
   "source": [
    "Test_Result.construct_latex_table(print_table=True)"
   ]
  },
  {
   "cell_type": "code",
   "execution_count": null,
   "id": "66e261b4-0c86-4b51-bbeb-381e263ce8d8",
   "metadata": {},
   "outputs": [],
   "source": []
  }
 ],
 "metadata": {
  "kernelspec": {
   "display_name": "Python 3 (ipykernel)",
   "language": "python",
   "name": "python3"
  },
  "language_info": {
   "codemirror_mode": {
    "name": "ipython",
    "version": 3
   },
   "file_extension": ".py",
   "mimetype": "text/x-python",
   "name": "python",
   "nbconvert_exporter": "python",
   "pygments_lexer": "ipython3",
   "version": "3.11.3"
  }
 },
 "nbformat": 4,
 "nbformat_minor": 5
}
